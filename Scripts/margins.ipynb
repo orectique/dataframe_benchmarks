{
 "cells": [
  {
   "cell_type": "code",
   "execution_count": 1,
   "metadata": {},
   "outputs": [],
   "source": [
    "import pandas as pd"
   ]
  },
  {
   "cell_type": "code",
   "execution_count": 3,
   "metadata": {},
   "outputs": [],
   "source": [
    "hld = pd.read_stata(\"../Data/WLD_2023_SYNTH-CEN-HLD-EN_v01_M.dta\")\n",
    "ind = pd.read_stata(\"../Data/WLD_2023_SYNTH-CEN-IND-EN_v01_M.dta\")"
   ]
  },
  {
   "cell_type": "code",
   "execution_count": 4,
   "metadata": {},
   "outputs": [
    {
     "data": {
      "text/plain": [
       "Index(['hid', 'geo1', 'geo2', 'ea', 'urbrur', 'hhsize', 'statocc', 'rooms',\n",
       "       'bedrooms', 'floor', 'walls', 'roof', 'water', 'piped_water', 'toilet',\n",
       "       'flush_toilet', 'electricity', 'cook_fuel', 'phone', 'cell', 'car',\n",
       "       'bicycle', 'motorcycle', 'refrigerator', 'tv', 'radio', 'bank',\n",
       "       'deaths_12m', 'exp_01', 'exp_02', 'exp_03', 'exp_04', 'exp_05',\n",
       "       'exp_06', 'exp_07', 'exp_08', 'exp_09', 'exp_10', 'exp_11', 'exp_12',\n",
       "       'tot_exp', 'tot_food', 'share_food', 'pc_exp', 'quint_nat', 'quint_urb',\n",
       "       'quint_rur'],\n",
       "      dtype='object')"
      ]
     },
     "execution_count": 4,
     "metadata": {},
     "output_type": "execute_result"
    }
   ],
   "source": [
    "hld.columns"
   ]
  },
  {
   "cell_type": "code",
   "execution_count": 5,
   "metadata": {},
   "outputs": [
    {
     "data": {
      "text/plain": [
       "Index(['hid', 'idno', 'relation', 'sex', 'age', 'age_month', 'marstat',\n",
       "       'religion', 'school_attend', 'educ_attain', 'yrs_school', 'literacy',\n",
       "       'act_status', 'labor_force', 'occupation', 'industry', 'migrate_recent',\n",
       "       'disability', 'blind', 'deaf', 'mental', 'ch_weight', 'ch_height',\n",
       "       'children_born', 'children_surv', 'births_12m'],\n",
       "      dtype='object')"
      ]
     },
     "execution_count": 5,
     "metadata": {},
     "output_type": "execute_result"
    }
   ],
   "source": [
    "ind.columns"
   ]
  },
  {
   "cell_type": "code",
   "execution_count": null,
   "metadata": {},
   "outputs": [],
   "source": []
  }
 ],
 "metadata": {
  "kernelspec": {
   "display_name": "web",
   "language": "python",
   "name": "python3"
  },
  "language_info": {
   "codemirror_mode": {
    "name": "ipython",
    "version": 3
   },
   "file_extension": ".py",
   "mimetype": "text/x-python",
   "name": "python",
   "nbconvert_exporter": "python",
   "pygments_lexer": "ipython3",
   "version": "3.13.1"
  }
 },
 "nbformat": 4,
 "nbformat_minor": 2
}
