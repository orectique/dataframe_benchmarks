{
 "cells": [
  {
   "cell_type": "code",
   "execution_count": 1,
   "metadata": {},
   "outputs": [],
   "source": [
    "import pandas as pd"
   ]
  },
  {
   "cell_type": "code",
   "execution_count": 2,
   "metadata": {},
   "outputs": [],
   "source": [
    "hld = pd.read_stata(\"../Data/WLD_2023_SYNTH-CEN-HLD-EN_v01_M.dta\")\n",
    "ind = pd.read_stata(\"../Data/WLD_2023_SYNTH-CEN-IND-EN_v01_M.dta\")"
   ]
  },
  {
   "cell_type": "code",
   "execution_count": 5,
   "metadata": {},
   "outputs": [],
   "source": [
    "ind = ind.merge(hld, on=\"hid\", how=\"left\")"
   ]
  },
  {
   "cell_type": "code",
   "execution_count": 6,
   "metadata": {},
   "outputs": [
    {
     "data": {
      "text/plain": [
       "Index(['hid', 'idno', 'relation', 'sex', 'age', 'age_month', 'marstat',\n",
       "       'religion', 'school_attend', 'educ_attain', 'yrs_school', 'literacy',\n",
       "       'act_status', 'labor_force', 'occupation', 'industry', 'migrate_recent',\n",
       "       'disability', 'blind', 'deaf', 'mental', 'ch_weight', 'ch_height',\n",
       "       'children_born', 'children_surv', 'births_12m', 'geo1', 'geo2', 'ea',\n",
       "       'urbrur', 'hhsize', 'statocc', 'rooms', 'bedrooms', 'floor', 'walls',\n",
       "       'roof', 'water', 'piped_water', 'toilet', 'flush_toilet', 'electricity',\n",
       "       'cook_fuel', 'phone', 'cell', 'car', 'bicycle', 'motorcycle',\n",
       "       'refrigerator', 'tv', 'radio', 'bank', 'deaths_12m', 'exp_01', 'exp_02',\n",
       "       'exp_03', 'exp_04', 'exp_05', 'exp_06', 'exp_07', 'exp_08', 'exp_09',\n",
       "       'exp_10', 'exp_11', 'exp_12', 'tot_exp', 'tot_food', 'share_food',\n",
       "       'pc_exp', 'quint_nat', 'quint_urb', 'quint_rur'],\n",
       "      dtype='object')"
      ]
     },
     "execution_count": 6,
     "metadata": {},
     "output_type": "execute_result"
    }
   ],
   "source": [
    "ind.columns"
   ]
  },
  {
   "cell_type": "code",
   "execution_count": 9,
   "metadata": {},
   "outputs": [
    {
     "name": "stderr",
     "output_type": "stream",
     "text": [
      "/tmp/ipykernel_6344/2685657952.py:1: FutureWarning: The default of observed=False is deprecated and will be changed to True in a future version of pandas. Pass observed=False to retain current behavior or observed=True to adopt the future default and silence this warning.\n",
      "  margins = ind.groupby([\"sex\", \"age\", \"marstat\", \"occupation\", \"hhsize\", \"electricity\", \"bank\"]).size().reset_index(name=\"count\")\n"
     ]
    }
   ],
   "source": [
    "margins = ind.groupby([\"sex\", \"age\", \"marstat\", \"occupation\", \"hhsize\", \"electricity\", \"bank\"]).size().reset_index(name=\"count\")"
   ]
  },
  {
   "cell_type": "code",
   "execution_count": 11,
   "metadata": {},
   "outputs": [],
   "source": [
    "import random"
   ]
  },
  {
   "cell_type": "code",
   "execution_count": 14,
   "metadata": {},
   "outputs": [],
   "source": [
    "margins[\"count\"] = margins[\"count\"].apply(lambda x: x * random.randint(1, 10))"
   ]
  },
  {
   "cell_type": "code",
   "execution_count": 15,
   "metadata": {},
   "outputs": [],
   "source": [
    "margins.to_csv(\"../Data/margins.csv\", index=False)"
   ]
  },
  {
   "cell_type": "code",
   "execution_count": null,
   "metadata": {},
   "outputs": [],
   "source": []
  }
 ],
 "metadata": {
  "kernelspec": {
   "display_name": "benchmark",
   "language": "python",
   "name": "python3"
  },
  "language_info": {
   "codemirror_mode": {
    "name": "ipython",
    "version": 3
   },
   "file_extension": ".py",
   "mimetype": "text/x-python",
   "name": "python",
   "nbconvert_exporter": "python",
   "pygments_lexer": "ipython3",
   "version": "3.13.2"
  }
 },
 "nbformat": 4,
 "nbformat_minor": 2
}
